{
 "nbformat": 4,
 "nbformat_minor": 2,
 "metadata": {
  "language_info": {
   "name": "python",
   "codemirror_mode": {
    "name": "ipython",
    "version": 3
   },
   "version": "3.7.4"
  },
  "orig_nbformat": 2,
  "file_extension": ".py",
  "mimetype": "text/x-python",
  "name": "python",
  "npconvert_exporter": "python",
  "pygments_lexer": "ipython3",
  "version": 3
 },
 "cells": [
  {
   "cell_type": "code",
   "execution_count": 1,
   "metadata": {},
   "outputs": [],
   "source": [
    "import time\n",
    "import numpy as np \n",
    "import pandas as pd "
   ]
  },
  {
   "cell_type": "code",
   "execution_count": 2,
   "metadata": {},
   "outputs": [],
   "source": [
    "nd1 = np.random.random((100000, 100))"
   ]
  },
  {
   "cell_type": "code",
   "execution_count": 3,
   "metadata": {},
   "outputs": [
    {
     "data": {
      "text/plain": "array([[0.65146868, 0.28979806, 0.30417884, ..., 0.09505554, 0.91595232,\n        0.11172776],\n       [0.43336245, 0.54080757, 0.92423282, ..., 0.83626226, 0.3290003 ,\n        0.32485003],\n       [0.48459791, 0.07298102, 0.94488436, ..., 0.84601229, 0.72391877,\n        0.68018266],\n       ...,\n       [0.78182249, 0.8038249 , 0.73620398, ..., 0.53741735, 0.48879764,\n        0.5519805 ],\n       [0.19950606, 0.92854003, 0.18785094, ..., 0.32206911, 0.6549517 ,\n        0.98530638],\n       [0.05593437, 0.24955658, 0.37761425, ..., 0.00414391, 0.73478533,\n        0.52859415]])"
     },
     "execution_count": 3,
     "metadata": {},
     "output_type": "execute_result"
    }
   ],
   "source": [
    "nd1"
   ]
  },
  {
   "cell_type": "code",
   "execution_count": 18,
   "metadata": {},
   "outputs": [],
   "source": [
    "def npSpeed():\n",
    "    time1 = time.time() \n",
    "    mean = nd1.mean() \n",
    "    time2 = time.time() \n",
    "\n",
    "    return mean, time2-time1"
   ]
  },
  {
   "cell_type": "code",
   "execution_count": 19,
   "metadata": {},
   "outputs": [
    {
     "data": {
      "text/plain": "(0.49999942979542894, 0.023938655853271484)"
     },
     "execution_count": 19,
     "metadata": {},
     "output_type": "execute_result"
    }
   ],
   "source": [
    "npSpeed()"
   ]
  },
  {
   "cell_type": "code",
   "execution_count": 10,
   "metadata": {},
   "outputs": [],
   "source": [
    "def pySpeed():\n",
    "    time1 = time.time() \n",
    "    mean = sum(sum(nd1)) / nd1.size\n",
    "    time2 = time.time()\n",
    "\n",
    "    return mean, time2-time1"
   ]
  },
  {
   "cell_type": "code",
   "execution_count": 11,
   "metadata": {},
   "outputs": [
    {
     "data": {
      "text/plain": "(0.49999942979542855, 0.13620209693908691)"
     },
     "execution_count": 11,
     "metadata": {},
     "output_type": "execute_result"
    }
   ],
   "source": [
    "pySpeed()"
   ]
  },
  {
   "cell_type": "code",
   "execution_count": 16,
   "metadata": {},
   "outputs": [],
   "source": [
    "def loopSpeed():\n",
    "    time1 = time.time() \n",
    "    sum = 0\n",
    "    for i in range(nd1.shape[0]):\n",
    "        for j in range(nd1.shape[1]):\n",
    "            sum += nd1[i, j]\n",
    "    \n",
    "    time2 = time.time() \n",
    "\n",
    "    return sum/nd1.size, time2-time1 "
   ]
  },
  {
   "cell_type": "code",
   "execution_count": 17,
   "metadata": {},
   "outputs": [
    {
     "data": {
      "text/plain": "(0.49999942979545686, 4.117252349853516)"
     },
     "execution_count": 17,
     "metadata": {},
     "output_type": "execute_result"
    }
   ],
   "source": [
    "loopSpeed()"
   ]
  },
  {
   "cell_type": "markdown",
   "execution_count": null,
   "metadata": {},
   "outputs": [],
   "source": [
    "Don't use loops"
   ]
  },
  {
   "cell_type": "markdown",
   "execution_count": null,
   "metadata": {},
   "outputs": [],
   "source": [
    "### Accessing NDArrays"
   ]
  },
  {
   "cell_type": "code",
   "execution_count": 20,
   "metadata": {},
   "outputs": [],
   "source": [
    "nd2 = np.random.random((5,4))"
   ]
  },
  {
   "cell_type": "code",
   "execution_count": 21,
   "metadata": {},
   "outputs": [
    {
     "data": {
      "text/plain": "array([[0.12723432, 0.57346802, 0.88756183, 0.02972074],\n       [0.85026352, 0.64358011, 0.54252701, 0.83413369],\n       [0.60543212, 0.12285025, 0.34837643, 0.70376191],\n       [0.6978685 , 0.70555331, 0.05867709, 0.34570057],\n       [0.54288773, 0.33018423, 0.06967607, 0.35305325]])"
     },
     "execution_count": 21,
     "metadata": {},
     "output_type": "execute_result"
    }
   ],
   "source": [
    "nd2"
   ]
  },
  {
   "cell_type": "code",
   "execution_count": 22,
   "metadata": {},
   "outputs": [
    {
     "data": {
      "text/plain": "array([0.57346802, 0.88756183])"
     },
     "execution_count": 22,
     "metadata": {},
     "output_type": "execute_result"
    }
   ],
   "source": [
    "nd2[0, 1:3]"
   ]
  },
  {
   "cell_type": "code",
   "execution_count": 23,
   "metadata": {},
   "outputs": [
    {
     "data": {
      "text/plain": "array([[0.12723432, 0.88756183],\n       [0.85026352, 0.54252701],\n       [0.60543212, 0.34837643],\n       [0.6978685 , 0.05867709],\n       [0.54288773, 0.06967607]])"
     },
     "execution_count": 23,
     "metadata": {},
     "output_type": "execute_result"
    }
   ],
   "source": [
    "nd2[:, 0:3:2]"
   ]
  },
  {
   "cell_type": "code",
   "execution_count": 25,
   "metadata": {},
   "outputs": [],
   "source": [
    "# modifying\n",
    "nd2[3] = [1,2,3,4]"
   ]
  },
  {
   "cell_type": "code",
   "execution_count": 26,
   "metadata": {},
   "outputs": [
    {
     "data": {
      "text/plain": "array([[0.12723432, 0.57346802, 0.88756183, 0.02972074],\n       [0.85026352, 0.64358011, 0.54252701, 0.83413369],\n       [0.60543212, 0.12285025, 0.34837643, 0.70376191],\n       [1.        , 2.        , 3.        , 4.        ],\n       [0.54288773, 0.33018423, 0.06967607, 0.35305325]])"
     },
     "execution_count": 26,
     "metadata": {},
     "output_type": "execute_result"
    }
   ],
   "source": [
    "nd2"
   ]
  },
  {
   "cell_type": "code",
   "execution_count": 27,
   "metadata": {},
   "outputs": [],
   "source": [
    "nd3 = np.random.random(5)"
   ]
  },
  {
   "cell_type": "code",
   "execution_count": 28,
   "metadata": {},
   "outputs": [
    {
     "data": {
      "text/plain": "array([0.13443722, 0.02938149, 0.87947102, 0.97419273, 0.6989389 ])"
     },
     "execution_count": 28,
     "metadata": {},
     "output_type": "execute_result"
    }
   ],
   "source": [
    "nd3"
   ]
  },
  {
   "cell_type": "code",
   "execution_count": 29,
   "metadata": {},
   "outputs": [],
   "source": [
    "idx = np.array([1,1,2,3])"
   ]
  },
  {
   "cell_type": "code",
   "execution_count": 30,
   "metadata": {},
   "outputs": [
    {
     "data": {
      "text/plain": "array([0.02938149, 0.02938149, 0.87947102, 0.97419273])"
     },
     "execution_count": 30,
     "metadata": {},
     "output_type": "execute_result"
    }
   ],
   "source": [
    "nd3[idx]"
   ]
  },
  {
   "cell_type": "code",
   "execution_count": 32,
   "metadata": {},
   "outputs": [
    {
     "data": {
      "text/plain": "array([[0.12723432, 0.57346802, 0.88756183, 0.02972074],\n       [0.85026352, 0.64358011, 0.54252701, 0.83413369],\n       [0.60543212, 0.12285025, 0.34837643, 0.70376191],\n       [1.        , 2.        , 3.        , 4.        ],\n       [0.54288773, 0.33018423, 0.06967607, 0.35305325]])"
     },
     "execution_count": 32,
     "metadata": {},
     "output_type": "execute_result"
    }
   ],
   "source": [
    "# masking\n",
    "nd2"
   ]
  },
  {
   "cell_type": "code",
   "execution_count": 33,
   "metadata": {},
   "outputs": [
    {
     "data": {
      "text/plain": "0.8782355609994118"
     },
     "execution_count": 33,
     "metadata": {},
     "output_type": "execute_result"
    }
   ],
   "source": [
    "nd2.mean()"
   ]
  },
  {
   "cell_type": "code",
   "execution_count": 34,
   "metadata": {},
   "outputs": [
    {
     "data": {
      "text/plain": "array([0.12723432, 0.57346802, 0.02972074, 0.85026352, 0.64358011,\n       0.54252701, 0.83413369, 0.60543212, 0.12285025, 0.34837643,\n       0.70376191, 0.54288773, 0.33018423, 0.06967607, 0.35305325])"
     },
     "execution_count": 34,
     "metadata": {},
     "output_type": "execute_result"
    }
   ],
   "source": [
    "nd2[nd2 < nd2.mean()]"
   ]
  },
  {
   "cell_type": "code",
   "execution_count": 36,
   "metadata": {},
   "outputs": [
    {
     "data": {
      "text/plain": "((15,), (5, 4))"
     },
     "execution_count": 36,
     "metadata": {},
     "output_type": "execute_result"
    }
   ],
   "source": [
    "nd2[nd2 < nd2.mean()].shape, nd2.shape"
   ]
  },
  {
   "cell_type": "code",
   "execution_count": 38,
   "metadata": {},
   "outputs": [],
   "source": [
    "# element wise operations\n",
    "\n",
    "nd4 = np.random.randint(0, 10, size=(2,4))"
   ]
  },
  {
   "cell_type": "code",
   "execution_count": 39,
   "metadata": {},
   "outputs": [
    {
     "data": {
      "text/plain": "array([[5, 0, 7, 8],\n       [8, 0, 9, 6]])"
     },
     "execution_count": 39,
     "metadata": {},
     "output_type": "execute_result"
    }
   ],
   "source": [
    "nd4"
   ]
  },
  {
   "cell_type": "code",
   "execution_count": 45,
   "metadata": {},
   "outputs": [
    {
     "data": {
      "text/plain": "array([[10.,  0., 14., 16.],\n       [16.,  0., 18., 12.]])"
     },
     "execution_count": 45,
     "metadata": {},
     "output_type": "execute_result"
    }
   ],
   "source": [
    "nd4 * 2.0"
   ]
  },
  {
   "cell_type": "code",
   "execution_count": 46,
   "metadata": {},
   "outputs": [
    {
     "data": {
      "text/plain": "array([[10,  0, 14, 16],\n       [16,  0, 18, 12]])"
     },
     "execution_count": 46,
     "metadata": {},
     "output_type": "execute_result"
    }
   ],
   "source": [
    "nd4 * 2"
   ]
  },
  {
   "cell_type": "code",
   "execution_count": 48,
   "metadata": {},
   "outputs": [
    {
     "data": {
      "text/plain": "(dtype('float64'), dtype('int32'))"
     },
     "execution_count": 48,
     "metadata": {},
     "output_type": "execute_result"
    }
   ],
   "source": [
    "(nd4 * 2.0).dtype, (nd4 * 2).dtype"
   ]
  },
  {
   "cell_type": "code",
   "execution_count": 49,
   "metadata": {},
   "outputs": [
    {
     "data": {
      "text/plain": "array([[25,  0, 49, 64],\n       [64,  0, 81, 36]])"
     },
     "execution_count": 49,
     "metadata": {},
     "output_type": "execute_result"
    }
   ],
   "source": [
    "nd4 * nd4"
   ]
  },
  {
   "cell_type": "code",
   "execution_count": 51,
   "metadata": {},
   "outputs": [
    {
     "data": {
      "text/plain": "array([[138, 151],\n       [151, 181]])"
     },
     "execution_count": 51,
     "metadata": {},
     "output_type": "execute_result"
    }
   ],
   "source": [
    "nd4.dot(nd4.T)"
   ]
  },
  {
   "cell_type": "code",
   "execution_count": 58,
   "metadata": {},
   "outputs": [
    {
     "data": {
      "text/plain": "array([[0.83333333, 0.        , 0.875     , 0.88888889],\n       [0.88888889, 0.        , 0.9       , 0.85714286]])"
     },
     "execution_count": 58,
     "metadata": {},
     "output_type": "execute_result"
    }
   ],
   "source": [
    "nd4.astype(float) / (nd4+1)"
   ]
  },
  {
   "cell_type": "code",
   "execution_count": 59,
   "metadata": {},
   "outputs": [
    {
     "data": {
      "text/plain": "array([[0.83333333, 0.        , 0.875     , 0.88888889],\n       [0.88888889, 0.        , 0.9       , 0.85714286]])"
     },
     "execution_count": 59,
     "metadata": {},
     "output_type": "execute_result"
    }
   ],
   "source": [
    "nd4 / (nd4+1)"
   ]
  },
  {
   "cell_type": "code",
   "execution_count": null,
   "metadata": {},
   "outputs": [],
   "source": []
  }
 ]
}